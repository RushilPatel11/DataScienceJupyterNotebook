{
 "cells": [
  {
   "cell_type": "code",
   "execution_count": 1,
   "id": "8c394fb9",
   "metadata": {},
   "outputs": [],
   "source": [
    "data=[(12345,\"Diksha\",\"Diksha r@nuv.ac.in\"),(45667,\"Jiva\", \"Jiva@nuv.ac.in\"),(16789,\"Ronit\",\"Ronit@nuv.ac.in\"),(69433,\"Heena\",\"Heena@nuv.ac.in\")]"
   ]
  },
  {
   "cell_type": "code",
   "execution_count": 2,
   "id": "552b3056",
   "metadata": {},
   "outputs": [
    {
     "name": "stdout",
     "output_type": "stream",
     "text": [
      "Enter id: 12345\n",
      "12345\n",
      "(12345, 'Diksha', 'Diksha r@nuv.ac.in')\n",
      "45667\n",
      "16789\n",
      "69433\n"
     ]
    }
   ],
   "source": [
    "n=int(input(\"Enter id: \"))\n",
    "for i in data:\n",
    "    print(i[0])\n",
    "    if i[0]==n:\n",
    "        print(i)"
   ]
  },
  {
   "cell_type": "code",
   "execution_count": 3,
   "id": "19e27132",
   "metadata": {},
   "outputs": [],
   "source": [
    "Mydict ={\"Enrollment Id\" :[12345, 45667, 16789, 69433],\"Student Name\": [\"Diksha\" , \"Jiva\", \"Ronit\", \"Heena\"],\"Email Id\":[\"Diksha r@nuv.ac.in\", \"Jiva@nuv.ac.in\", \"Ronitd@nuv.ac.in\",\"Heena@nuv.ac.in\"]}"
   ]
  },
  {
   "cell_type": "code",
   "execution_count": 5,
   "id": "56ac55dc",
   "metadata": {},
   "outputs": [
    {
     "name": "stdout",
     "output_type": "stream",
     "text": [
      "=>12345\n"
     ]
    }
   ],
   "source": [
    "value = int(input(\"=>\"))"
   ]
  },
  {
   "cell_type": "code",
   "execution_count": 8,
   "id": "ecf4b346",
   "metadata": {},
   "outputs": [
    {
     "name": "stdout",
     "output_type": "stream",
     "text": [
      "12345   Diksha      Diksha r@nuv.ac.in       \n"
     ]
    }
   ],
   "source": [
    "for i in range(len(Mydict[\"Enrollment Id\"])):\n",
    "    if Mydict[\"Enrollment Id\"][i]==value:\n",
    "        enrolid = Mydict[\"Enrollment Id\"][i]\n",
    "        sname = Mydict[\"Student Name\"][i]\n",
    "        emailid = Mydict[\"Email Id\"][i]\n",
    "print(f\"{enrolid:<7} {sname:12}{emailid:25}\") "
   ]
  },
  {
   "cell_type": "code",
   "execution_count": 1,
   "id": "8376467c",
   "metadata": {},
   "outputs": [
    {
     "name": "stdout",
     "output_type": "stream",
     "text": [
      "{'Enrollment ID': [12345, 45667, 16789, 69433], 'Sname': ['Diksha', 'Jiva', 'Ronit', 'Heena'], 'Semail': ['Dikshar@nuv.ac.in', 'Jiva@nuv.ac.in', 'Ronitd@nuv.ac.in', 'Heena@nuv.ac.in']}\n"
     ]
    }
   ],
   "source": [
    "data=[(12345,\"Diksha\",\"Dikshar@nuv.ac.in\"),(45667,\"Jiva\",\"Jiva@nuv.ac.in\"),(16789,\"Ronit\",\"Ronitd@nuv.ac.in\"),(69433,\"Heena\",\"Heena@nuv.ac.in\")]\n",
    "Mydict = {\"Enrollment ID\":[],\"Sname\":[],\"Semail\":[]}\n",
    "for i in data:\n",
    "    Mydict[\"Enrollment ID\"].append(i[0])\n",
    "    Mydict[\"Sname\"].append(i[1])\n",
    "    Mydict[\"Semail\"].append(i[2])\n",
    "print(Mydict)"
   ]
  },
  {
   "cell_type": "code",
   "execution_count": 17,
   "id": "3357ce33",
   "metadata": {},
   "outputs": [],
   "source": [
    "import json\n",
    "d={ \"id \" : \"22000270\",\"Name\":\"Rushil\",\"Contact\":\"2722829\"}\n",
    "f = open(\"Bcastudent.json\",\"w\")\n"
   ]
  },
  {
   "cell_type": "code",
   "execution_count": 18,
   "id": "71e45793",
   "metadata": {},
   "outputs": [
    {
     "data": {
      "text/plain": [
       "73"
      ]
     },
     "execution_count": 18,
     "metadata": {},
     "output_type": "execute_result"
    }
   ],
   "source": [
    "jsdata = json.dumps(d , indent=4)\n",
    "f.write(jsdata)"
   ]
  },
  {
   "cell_type": "code",
   "execution_count": 19,
   "id": "1bb200ca",
   "metadata": {},
   "outputs": [
    {
     "name": "stdout",
     "output_type": "stream",
     "text": [
      "{'id ': '22000270', 'Name': 'Rushil', 'Contact': '2722829'}\n"
     ]
    }
   ],
   "source": [
    "f = open(\"Bcastudent.json\",\"r\")\n",
    "detail = json.load(f)\n",
    "print(detail)"
   ]
  },
  {
   "cell_type": "code",
   "execution_count": 27,
   "id": "460e381a",
   "metadata": {},
   "outputs": [],
   "source": [
    "d ={ \"id\":\"626663\",\"Name\":\"dusd\",\"Contact\":\"383782377\"}\n",
    "f = open(\"Bcastudent.json\",\"a\")\n",
    "json.dump(d ,f ,indent=4)"
   ]
  },
  {
   "cell_type": "code",
   "execution_count": 31,
   "id": "575ebcf6",
   "metadata": {},
   "outputs": [
    {
     "data": {
      "text/html": [
       "<div>\n",
       "<style scoped>\n",
       "    .dataframe tbody tr th:only-of-type {\n",
       "        vertical-align: middle;\n",
       "    }\n",
       "\n",
       "    .dataframe tbody tr th {\n",
       "        vertical-align: top;\n",
       "    }\n",
       "\n",
       "    .dataframe thead th {\n",
       "        text-align: right;\n",
       "    }\n",
       "</style>\n",
       "<table border=\"1\" class=\"dataframe\">\n",
       "  <thead>\n",
       "    <tr style=\"text-align: right;\">\n",
       "      <th></th>\n",
       "      <th>stateid</th>\n",
       "      <th>name</th>\n",
       "      <th>population in crores</th>\n",
       "      <th>No. of Universities</th>\n",
       "    </tr>\n",
       "  </thead>\n",
       "  <tbody>\n",
       "    <tr>\n",
       "      <th>0</th>\n",
       "      <td>12001</td>\n",
       "      <td>Gujarat</td>\n",
       "      <td>10</td>\n",
       "      <td>29</td>\n",
       "    </tr>\n",
       "    <tr>\n",
       "      <th>1</th>\n",
       "      <td>12002</td>\n",
       "      <td>Maharashtra</td>\n",
       "      <td>19</td>\n",
       "      <td>36</td>\n",
       "    </tr>\n",
       "    <tr>\n",
       "      <th>2</th>\n",
       "      <td>12003</td>\n",
       "      <td>Rajasthan</td>\n",
       "      <td>13</td>\n",
       "      <td>31</td>\n",
       "    </tr>\n",
       "    <tr>\n",
       "      <th>3</th>\n",
       "      <td>12004</td>\n",
       "      <td>Madhya Pradesh</td>\n",
       "      <td>14</td>\n",
       "      <td>21</td>\n",
       "    </tr>\n",
       "    <tr>\n",
       "      <th>4</th>\n",
       "      <td>12005</td>\n",
       "      <td>Punjab</td>\n",
       "      <td>12</td>\n",
       "      <td>13</td>\n",
       "    </tr>\n",
       "    <tr>\n",
       "      <th>5</th>\n",
       "      <td>12006</td>\n",
       "      <td>Karnataka</td>\n",
       "      <td>23</td>\n",
       "      <td>31</td>\n",
       "    </tr>\n",
       "    <tr>\n",
       "      <th>6</th>\n",
       "      <td>12007</td>\n",
       "      <td>Tamilnadu</td>\n",
       "      <td>25</td>\n",
       "      <td>29</td>\n",
       "    </tr>\n",
       "    <tr>\n",
       "      <th>7</th>\n",
       "      <td>1208</td>\n",
       "      <td>Kerala</td>\n",
       "      <td>21</td>\n",
       "      <td>15</td>\n",
       "    </tr>\n",
       "  </tbody>\n",
       "</table>\n",
       "</div>"
      ],
      "text/plain": [
       "   stateid            name   population in crores   No. of Universities\n",
       "0    12001         Gujarat                     10                    29\n",
       "1    12002     Maharashtra                     19                    36\n",
       "2    12003       Rajasthan                     13                    31\n",
       "3    12004  Madhya Pradesh                     14                    21\n",
       "4    12005          Punjab                     12                    13\n",
       "5    12006       Karnataka                     23                    31\n",
       "6    12007       Tamilnadu                     25                    29\n",
       "7     1208          Kerala                     21                    15"
      ]
     },
     "execution_count": 31,
     "metadata": {},
     "output_type": "execute_result"
    }
   ],
   "source": [
    "import pandas as pd\n",
    "df = pd.read_csv(\"data1.csv\")\n",
    "df"
   ]
  },
  {
   "cell_type": "code",
   "execution_count": 40,
   "id": "baf8064c",
   "metadata": {},
   "outputs": [
    {
     "name": "stdout",
     "output_type": "stream",
     "text": [
      "[12001 'Gujarat' 10 29]\n",
      "[12002 'Maharashtra' 19 36]\n",
      "[12003 'Rajasthan' 13 31]\n",
      "[12004 'Madhya Pradesh' 14 21]\n",
      "[12005 'Punjab' 12 13]\n",
      "[12006 'Karnataka' 23 31]\n",
      "[12007 'Tamilnadu' 25 29]\n",
      "[1208 'Kerala' 21 15]\n"
     ]
    }
   ],
   "source": [
    "keys = list(df.keys())\n",
    "keys\n",
    "value = list(df.values)\n",
    "\n",
    "for d in value:\n",
    "    states[d[0]]={\n",
    "        \n",
    "    }"
   ]
  },
  {
   "cell_type": "code",
   "execution_count": null,
   "id": "15627697",
   "metadata": {},
   "outputs": [],
   "source": []
  }
 ],
 "metadata": {
  "kernelspec": {
   "display_name": "Python 3 (ipykernel)",
   "language": "python",
   "name": "python3"
  },
  "language_info": {
   "codemirror_mode": {
    "name": "ipython",
    "version": 3
   },
   "file_extension": ".py",
   "mimetype": "text/x-python",
   "name": "python",
   "nbconvert_exporter": "python",
   "pygments_lexer": "ipython3",
   "version": "3.11.5"
  }
 },
 "nbformat": 4,
 "nbformat_minor": 5
}
