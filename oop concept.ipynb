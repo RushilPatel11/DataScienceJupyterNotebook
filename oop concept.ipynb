{
 "cells": [
  {
   "cell_type": "code",
   "execution_count": 6,
   "id": "cf581b20",
   "metadata": {},
   "outputs": [],
   "source": [
    "class Employee:\n",
    "    def __init__(self):\n",
    "        self.empid=empid\n",
    "        self.name=name\n",
    "        self.basicsalary=salary\n",
    "        self.experience=experience\n",
    "        self.netsalary=netsalary\n",
    "        self.hra=0\n",
    "        self.da=0\n",
    "        self.pf=0\n",
    "        self.bonus=0"
   ]
  },
  {
   "cell_type": "code",
   "execution_count": 12,
   "id": "d6220fc4",
   "metadata": {},
   "outputs": [],
   "source": [
    "def hra(self):\n",
    "    self.hra = .35*salary\n",
    "    return hra"
   ]
  },
  {
   "cell_type": "code",
   "execution_count": 13,
   "id": "11fc6b74",
   "metadata": {},
   "outputs": [],
   "source": [
    "def bonus(self):\n",
    "    if (experience >= 30 ):\n",
    "        self.bonus= .59*salary\n",
    "    elif (experience >=23 ):\n",
    "        self.bonus = .51*salary\n",
    "    elif (experience >=15 ):\n",
    "        self.bonus = .45*salary\n",
    "    elif (experience >=7 ):\n",
    "        self.bonus = .33*salary\n",
    "    else:\n",
    "        self.bonus= .16*salary"
   ]
  },
  {
   "cell_type": "code",
   "execution_count": 14,
   "id": "a51701c6",
   "metadata": {},
   "outputs": [],
   "source": [
    "def da(self):\n",
    "    self.bonus = .58*salary\n",
    "    return da"
   ]
  },
  {
   "cell_type": "code",
   "execution_count": 15,
   "id": "7b6c4528",
   "metadata": {},
   "outputs": [],
   "source": [
    "def pf(self):\n",
    "    self.bonus = .095*salary\n",
    "    return pf"
   ]
  },
  {
   "cell_type": "code",
   "execution_count": 16,
   "id": "b48e79ac",
   "metadata": {},
   "outputs": [],
   "source": [
    "def netsalary(self):\n",
    "    netsalary = self.pf + self.da + self.hra + self.bonus\n",
    "    return netsalary"
   ]
  },
  {
   "cell_type": "code",
   "execution_count": 18,
   "id": "99bca8d7",
   "metadata": {},
   "outputs": [],
   "source": [
    "def main():\n",
    "    empid = int(input(\"Enter Employee ID: \"))\n",
    "    name = str(input(\"Enter Name: \"))\n",
    "    basic = int(input(\"Enter Basic Salary: \"))\n",
    "    exp = int(input(\"Enter Experience in Years: \"))\n",
    "    emp = Employee(empid, name, basic, exp)\n",
    "    emp.display_details()"
   ]
  },
  {
   "cell_type": "code",
   "execution_count": 20,
   "id": "395e0512",
   "metadata": {},
   "outputs": [
    {
     "name": "stdout",
     "output_type": "stream",
     "text": [
      "Enter Employee ID: 33\n",
      "Enter Name: rushil\n",
      "Enter Basic Salary: 50000\n",
      "Enter Experience in Years: 41\n"
     ]
    },
    {
     "ename": "TypeError",
     "evalue": "Employee.__init__() takes 1 positional argument but 5 were given",
     "output_type": "error",
     "traceback": [
      "\u001b[1;31m---------------------------------------------------------------------------\u001b[0m",
      "\u001b[1;31mTypeError\u001b[0m                                 Traceback (most recent call last)",
      "Cell \u001b[1;32mIn[20], line 2\u001b[0m\n\u001b[0;32m      1\u001b[0m \u001b[38;5;28;01mif\u001b[39;00m \u001b[38;5;18m__name__\u001b[39m \u001b[38;5;241m==\u001b[39m \u001b[38;5;124m\"\u001b[39m\u001b[38;5;124m__main__\u001b[39m\u001b[38;5;124m\"\u001b[39m:\n\u001b[1;32m----> 2\u001b[0m     main()\n",
      "Cell \u001b[1;32mIn[18], line 6\u001b[0m, in \u001b[0;36mmain\u001b[1;34m()\u001b[0m\n\u001b[0;32m      4\u001b[0m basic \u001b[38;5;241m=\u001b[39m \u001b[38;5;28mint\u001b[39m(\u001b[38;5;28minput\u001b[39m(\u001b[38;5;124m\"\u001b[39m\u001b[38;5;124mEnter Basic Salary: \u001b[39m\u001b[38;5;124m\"\u001b[39m))\n\u001b[0;32m      5\u001b[0m exp \u001b[38;5;241m=\u001b[39m \u001b[38;5;28mint\u001b[39m(\u001b[38;5;28minput\u001b[39m(\u001b[38;5;124m\"\u001b[39m\u001b[38;5;124mEnter Experience in Years: \u001b[39m\u001b[38;5;124m\"\u001b[39m))\n\u001b[1;32m----> 6\u001b[0m emp \u001b[38;5;241m=\u001b[39m Employee(empid, name, basic, exp)\n\u001b[0;32m      7\u001b[0m emp\u001b[38;5;241m.\u001b[39mdisplay_details()\n",
      "\u001b[1;31mTypeError\u001b[0m: Employee.__init__() takes 1 positional argument but 5 were given"
     ]
    }
   ],
   "source": [
    "if __name__ == \"__main__\":\n",
    "    main()"
   ]
  },
  {
   "cell_type": "code",
   "execution_count": null,
   "id": "65229162",
   "metadata": {},
   "outputs": [],
   "source": []
  }
 ],
 "metadata": {
  "kernelspec": {
   "display_name": "Python 3 (ipykernel)",
   "language": "python",
   "name": "python3"
  },
  "language_info": {
   "codemirror_mode": {
    "name": "ipython",
    "version": 3
   },
   "file_extension": ".py",
   "mimetype": "text/x-python",
   "name": "python",
   "nbconvert_exporter": "python",
   "pygments_lexer": "ipython3",
   "version": "3.11.5"
  }
 },
 "nbformat": 4,
 "nbformat_minor": 5
}
